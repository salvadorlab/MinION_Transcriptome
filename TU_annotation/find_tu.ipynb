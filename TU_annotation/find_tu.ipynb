{
 "cells": [
  {
   "cell_type": "code",
   "execution_count": 1,
   "metadata": {},
   "outputs": [],
   "source": [
    "import os\n",
    "import sys\n",
    "import pybedtools\n",
    "import re\n",
    "import subprocess\n",
    "import argparse\n",
    "from statistics import mode, multimode\n",
    "import find_feature\n",
    "import find_tu\n",
    "from collections import Counter\n",
    "import pandas as pd\n",
    "# import annotate_tss as at"
   ]
  },
  {
   "cell_type": "code",
   "execution_count": null,
   "metadata": {},
   "outputs": [],
   "source": [
    "\n",
    "filter_tss=\"/scratch/rx32940/minION/polyA_directRNA/TU_Annotation/direct_output/tss/chromIlag.filtered20.TSS.tab\"\n",
    "gff=\"/scratch/rx32940/minION/polyA_cDNA/map/genome/reference/GCF_000007685.1_ASM768v1_genomic.gff\"\n",
    "output=\"/scratch/rx32940/minION/polyA_directRNA/TU_Annotation/direct_output/tss/chromIlead.annotate20.TSS.tab\"\n",
    "\n",
    "all_genes=at.get_genes(gff) \n",
    "all_tss=at.get_tss(all_genes, filter_tss)\n",
    "tss_anot=at.annotate_tss(all_genes, all_tss)\n",
    "anot_df = at.annotate_gTSS(tss_anot)[[\"chrom\",\"start\",\"end\",\"tss_type\",\"cov\", \"strand\",\"gTSS_anot\" ,\"tssGene\", \"numSamples\", \"geneFrom\", \"max_cov\"]]\n",
    "\n",
    "\n"
   ]
  },
  {
   "cell_type": "code",
   "execution_count": 3,
   "metadata": {},
   "outputs": [],
   "source": [
    "bam=\"/scratch/rx32940/minION/polyA_directRNA/map/genome/bam/Q29_Copenhageni_Basecalled_May_22_2020_Direct-RNA_rna_filtered.linear.bam\"\n",
    "gff=\"/scratch/rx32940/minION/polyA_cDNA/map/genome/reference/GCF_000007685.1_ASM768v1_genomic.gff\"\n",
    "output=\"/scratch/rx32940/minION/polyA_directRNA/TU_Annotation/input/\"\n",
    "\n"
   ]
  },
  {
   "cell_type": "code",
   "execution_count": 4,
   "metadata": {},
   "outputs": [
    {
     "name": "stdout",
     "output_type": "stream",
     "text": [
      "start finding TSS with gene aware approach:\n",
      "start finding TSS with gene unaware approach.\n",
      "combining TSS from gene aware and unaware approach.\n",
      "finding TSS in the current alignment:\n",
      "new bed file generated from bam:True\n",
      "threhold:10\n",
      "Gene aware coverage filter:0.300000\n",
      "\n",
      "number of TSS identified from each chrom and strand:\n",
      " {'NC_005823.1': {'+': 3503, '-': 4009}, 'NC_005824.1': {'+': 296, '-': 347}} \n"
     ]
    }
   ],
   "source": [
    "tss_obj=find_feature.FindFeature(bam=bam, gff=gff, output=output, feature=\"TSS\", unawarecovfilter = 0.9)\n",
    "tss_dict = tss_obj.find_features()\n",
    "# tts_obj=find_feature.FindFeature(bam=bam, gff=gff, output=output, feature=\"TTS\")\n",
    "# tts_dict = tts_obj.find_features()\n",
    "\n"
   ]
  },
  {
   "cell_type": "code",
   "execution_count": null,
   "metadata": {},
   "outputs": [],
   "source": [
    "test = tss_obj.pos_cov\n",
    "chrom=\"NC_005824.1\"\n",
    "strand=\"-\"\n",
    "test[chrom][strand][350181]\n",
    "\n",
    "tss_obj.all_reads[chrom][strand][0]"
   ]
  },
  {
   "cell_type": "code",
   "execution_count": null,
   "metadata": {},
   "outputs": [],
   "source": []
  },
  {
   "cell_type": "code",
   "execution_count": null,
   "metadata": {},
   "outputs": [],
   "source": [
    "tu_obj = find_tu.FindTU(bam=bam, gff=gff)\n",
    "tu_obj.find_operon()"
   ]
  },
  {
   "cell_type": "code",
   "execution_count": null,
   "metadata": {},
   "outputs": [],
   "source": [
    "all_orfs={}\n",
    "for chrom in tts_dict.keys():\n",
    "    all_orfs[chrom]={}\n",
    "    for strand in tts_dict[chrom].keys():\n",
    "        all_orfs[chrom][strand]=[]\n",
    "        # print(strand)\n",
    "        if strand == \"+\":\n",
    "            for tss in tss_dict[chrom][strand][0:5]:\n",
    "                # print(tss)\n",
    "                tss_start=tss[0] \n",
    "                tss_end=tss[1]\n",
    "                tss_gene=tss[2]\n",
    "                i=0\n",
    "                orf_list=[]\n",
    "                tts_start= tts_dict[chrom][strand][i][0]\n",
    "                tts_end= tts_dict[chrom][strand][i][1]\n",
    "                tts_gene=tts_dict[chrom][strand][i][2]\n",
    "                enlonged =0\n",
    "                tss_found=0\n",
    "                print(\"current tss: \" + str((tss_start , tss_end)))\n",
    "                while i < (len(tts_dict[chrom][strand])-1) and tts_end <= tss_end: # loop while the tss cluster's start (5') is smaller than the start of tts cluster (3') \n",
    "                    print(\"current tts\" + str((tts_start, tts_end)))\n",
    "                    if tts_start >= tss_start and tts_end <= tss_end: # if the cluster of tss and tts overlap\n",
    "                        # the current tu is enlonged with the tts cluster\n",
    "                        # use the enlonged version of tu to check overlapping with the next tts cluster\n",
    "                        enlonged += 1 \n",
    "                        tss_found +=1\n",
    "                        tss_start = tss_start \n",
    "                        tss_end = tts_start if tts_start > tss_end else tss_end\n",
    "                        tss_gene = tss_gene + \":\" + tts_gene if tss_gene != tts_gene else tss_gene\n",
    "                        print(\"enlonged tu: \" + str((tss_start, tss_end)))\n",
    "                    elif enlonged > 0:\n",
    "                        orf_list.append((tss_start, tss_end, tss_gene))\n",
    "                        print(\"current orf:\" + str((tss_start, tss_end)))\n",
    "                        print(enlonged)\n",
    "                        enlonged = 0\n",
    "                    i +=1\n",
    "                    tts_start= tts_dict[chrom][strand][i][0]\n",
    "                    tts_end= tts_dict[chrom][strand][i][1]\n",
    "                    tts_gene=tts_dict[chrom][strand][i][2]\n",
    "                orf_list.append((tss_start, tss_end, tss_gene))\n",
    "                all_orfs[chrom][strand] = all_orfs[chrom][strand] + orf_list\n",
    "                "
   ]
  },
  {
   "cell_type": "code",
   "execution_count": null,
   "metadata": {},
   "outputs": [],
   "source": [
    "all_reads = tss_obj.all_reads\n",
    "\n",
    "all_genes = tss_obj.all_genes\n",
    "\n",
    "all_operons={}\n",
    "for chrom in all_reads.keys():\n",
    "    all_operons[chrom]={}\n",
    "    for strand in all_reads[chrom].keys():\n",
    "        all_operons[chrom][strand] = []\n",
    "        operon_list=[]\n",
    "        if strand == \"-\": # lag strand reads has second position as 5'\n",
    "            read_start=1\n",
    "            read_end=0\n",
    "        else:\n",
    "            read_start=0\n",
    "            read_end=1\n",
    "        for read in all_reads[chrom][strand]: # loop through each read\n",
    "            cur_operon_start = read[read_start]\n",
    "            cur_operon_end = read[read_end]\n",
    "            cur_operon_genes = \"\"\n",
    "            gene_in_operon = 0\n",
    "            i=0\n",
    "            while i < len(all_genes[chrom][strand]): # rotating through genes (read is stationary)\n",
    "                cur_gene = all_genes[chrom][strand][i]\n",
    "                if cur_gene[1] < cur_operon_start: # genes end is before read start\n",
    "                    i += 1\n",
    "                elif cur_gene[0]> cur_operon_end : # if gene start after read ends, then no more future gene will overlap with this read if gene list sorted\n",
    "                    cur_operon = (cur_operon_start, cur_operon_end, gene_in_operon, cur_operon_genes[1:])\n",
    "                    i = len(all_genes[chrom][strand]) # stop looping through genes\n",
    "                else: # gene over lap with current read\n",
    "                    gene_in_operon +=1 \n",
    "                    cur_operon_genes = cur_operon_genes + \":\"+ cur_gene[2] \n",
    "                    i += 1\n",
    "            all_operons[chrom][strand].append(cur_operon)\n",
    "        "
   ]
  },
  {
   "cell_type": "code",
   "execution_count": null,
   "metadata": {},
   "outputs": [],
   "source": [
    "# all_operons\n",
    "\n",
    "with open(os.path.join(output, \"Q29_Copenhageni_Basecalled_May_22_2020_Direct-RNA_rna_filtered.linear.operons.tab\"), \"w\") as ow:\n",
    "    ow.write(\"%s\\t%s\\t%s\\t%s\\t%s\\t%s\\t%s\\n\"%(\"chrom\" ,\"strand\",\"start\", \"end\",\"numGenes\",\"numOfReads\", \"genesIncluded\")) \n",
    "    operon_cov_dict={}\n",
    "    for chrom in all_operons.keys():\n",
    "        operon_cov_dict[chrom]={}\n",
    "        for strand in all_operons[chrom].keys():\n",
    "            operon_cov_dict[chrom][strand]=[]\n",
    "            # get unique operons (with different genes included) and get number of reads supporting each operon\n",
    "            genes_in_operons=[x[3] for x in all_operons[chrom][strand]]\n",
    "            operons_cov = Counter(genes_in_operons)\n",
    "            for op in operons_cov.keys():\n",
    "                op_start= min([x[0] for x in all_operons[chrom][strand] if x[3] == op])\n",
    "                op_end = max([x[1] for x in all_operons[chrom][strand] if x[3] == op])\n",
    "                op_spread=[x[2] for x in all_operons[chrom][strand] if x[3] == op][0]\n",
    "                op_cov = operons_cov[op]\n",
    "                operon_cov_dict[chrom][strand].append((op_start, op_end,op_spread ,op_cov, op))\n",
    "                ow.write(\"%s\\t%s\\t%d\\t%d\\t%d\\t%d\\t%s\\n\"%(chrom, strand, op_start, op_end,op_spread ,op_cov, op)) \n",
    "                \n",
    "            "
   ]
  },
  {
   "cell_type": "code",
   "execution_count": null,
   "metadata": {},
   "outputs": [],
   "source": [
    "operon_cov_dict\n",
    "\n",
    "# all_operons"
   ]
  },
  {
   "cell_type": "code",
   "execution_count": null,
   "metadata": {},
   "outputs": [],
   "source": [
    "\n",
    "\n",
    "genes_in_operons = [x[3] for x in operon_list]\n",
    "\n",
    "operons_cov = Counter(genes_in_operons)\n",
    "with open(os.path.join(output, \"Q29_Copenhageni_Basecalled_May_22_2020_Direct-RNA_rna_filtered.linear.operons.tav\"), \"w\") as ow:\n",
    "    ow.write(\"%s\\t%s\\t%s\\t%s\"%(\"chrom\" ,\"strand\"\"Operons\", \"numOfReads\"))\n",
    "    for chrom in operon_cov_dict.keys():\n",
    "        for strand in operon_cov_dict[chrom].keys():\n",
    "            \n",
    "    "
   ]
  },
  {
   "cell_type": "code",
   "execution_count": null,
   "metadata": {},
   "outputs": [],
   "source": [
    "operon_list\n",
    "cur_operon_genes\n",
    "len(all_reads[chrom][strand])\n",
    "test = list(set(all_reads[chrom][strand]))\n",
    "test.sort()\n",
    "test[3258:5200]\n",
    "chrom=\"NC_005823.1\"\n",
    "strand=\"-\"\n",
    "distinct_read = list(set(all_reads[chrom][strand]))\n",
    "distinct_read.sort()\n",
    "all_genes[chrom][\"-\"]\n"
   ]
  }
 ],
 "metadata": {
  "interpreter": {
   "hash": "57dd241cb148cc0f6cdd2944948ec59dd0e7c7de5bd15212d71dc7338efa6ab0"
  },
  "kernelspec": {
   "display_name": "Python 3.9.7 ('tu_annotation')",
   "language": "python",
   "name": "python3"
  },
  "language_info": {
   "codemirror_mode": {
    "name": "ipython",
    "version": 3
   },
   "file_extension": ".py",
   "mimetype": "text/x-python",
   "name": "python",
   "nbconvert_exporter": "python",
   "pygments_lexer": "ipython3",
   "version": "3.9.7"
  },
  "orig_nbformat": 4
 },
 "nbformat": 4,
 "nbformat_minor": 2
}
