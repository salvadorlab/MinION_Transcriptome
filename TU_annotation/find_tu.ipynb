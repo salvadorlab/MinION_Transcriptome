{
 "cells": [
  {
   "cell_type": "code",
   "execution_count": 37,
   "metadata": {},
   "outputs": [],
   "source": [
    "import os\n",
    "import sys\n",
    "import pybedtools\n",
    "import re\n",
    "import subprocess\n",
    "import argparse\n",
    "from statistics import mode, multimode\n",
    "import find_feature\n",
    "import find_tu\n",
    "from collections import Counter\n",
    "import pandas as pd\n",
    "import annotate_tss as at"
   ]
  },
  {
   "cell_type": "code",
   "execution_count": 38,
   "metadata": {},
   "outputs": [
    {
     "ename": "ValueError",
     "evalue": "7 columns passed, passed data had 6 columns",
     "output_type": "error",
     "traceback": [
      "\u001b[0;31m---------------------------------------------------------------------------\u001b[0m",
      "\u001b[0;31mAssertionError\u001b[0m                            Traceback (most recent call last)",
      "\u001b[0;32m~/.conda/envs/tu_annotation/lib/python3.9/site-packages/pandas/core/internals/construction.py\u001b[0m in \u001b[0;36m_finalize_columns_and_data\u001b[0;34m(content, columns, dtype)\u001b[0m\n\u001b[1;32m    905\u001b[0m     \u001b[0;32mtry\u001b[0m\u001b[0;34m:\u001b[0m\u001b[0;34m\u001b[0m\u001b[0;34m\u001b[0m\u001b[0m\n\u001b[0;32m--> 906\u001b[0;31m         \u001b[0mcolumns\u001b[0m \u001b[0;34m=\u001b[0m \u001b[0m_validate_or_indexify_columns\u001b[0m\u001b[0;34m(\u001b[0m\u001b[0mcontents\u001b[0m\u001b[0;34m,\u001b[0m \u001b[0mcolumns\u001b[0m\u001b[0;34m)\u001b[0m\u001b[0;34m\u001b[0m\u001b[0;34m\u001b[0m\u001b[0m\n\u001b[0m\u001b[1;32m    907\u001b[0m     \u001b[0;32mexcept\u001b[0m \u001b[0mAssertionError\u001b[0m \u001b[0;32mas\u001b[0m \u001b[0merr\u001b[0m\u001b[0;34m:\u001b[0m\u001b[0;34m\u001b[0m\u001b[0;34m\u001b[0m\u001b[0m\n",
      "\u001b[0;32m~/.conda/envs/tu_annotation/lib/python3.9/site-packages/pandas/core/internals/construction.py\u001b[0m in \u001b[0;36m_validate_or_indexify_columns\u001b[0;34m(content, columns)\u001b[0m\n\u001b[1;32m    953\u001b[0m             \u001b[0;31m# caller's responsibility to check for this...\u001b[0m\u001b[0;34m\u001b[0m\u001b[0;34m\u001b[0m\u001b[0m\n\u001b[0;32m--> 954\u001b[0;31m             raise AssertionError(\n\u001b[0m\u001b[1;32m    955\u001b[0m                 \u001b[0;34mf\"{len(columns)} columns passed, passed data had \"\u001b[0m\u001b[0;34m\u001b[0m\u001b[0;34m\u001b[0m\u001b[0m\n",
      "\u001b[0;31mAssertionError\u001b[0m: 7 columns passed, passed data had 6 columns",
      "\nThe above exception was the direct cause of the following exception:\n",
      "\u001b[0;31mValueError\u001b[0m                                Traceback (most recent call last)",
      "\u001b[0;32m/tmp/ipykernel_41341/1243934515.py\u001b[0m in \u001b[0;36m<module>\u001b[0;34m\u001b[0m\n\u001b[1;32m      6\u001b[0m \u001b[0mall_tss\u001b[0m\u001b[0;34m=\u001b[0m\u001b[0mat\u001b[0m\u001b[0;34m.\u001b[0m\u001b[0mget_tss\u001b[0m\u001b[0;34m(\u001b[0m\u001b[0mall_genes\u001b[0m\u001b[0;34m,\u001b[0m \u001b[0mfilter_tss\u001b[0m\u001b[0;34m)\u001b[0m\u001b[0;34m\u001b[0m\u001b[0;34m\u001b[0m\u001b[0m\n\u001b[1;32m      7\u001b[0m \u001b[0mtss_anot\u001b[0m\u001b[0;34m=\u001b[0m\u001b[0mat\u001b[0m\u001b[0;34m.\u001b[0m\u001b[0mannotate_tss\u001b[0m\u001b[0;34m(\u001b[0m\u001b[0mall_genes\u001b[0m\u001b[0;34m,\u001b[0m \u001b[0mall_tss\u001b[0m\u001b[0;34m)\u001b[0m\u001b[0;34m\u001b[0m\u001b[0;34m\u001b[0m\u001b[0m\n\u001b[0;32m----> 8\u001b[0;31m \u001b[0manot_df\u001b[0m \u001b[0;34m=\u001b[0m \u001b[0mat\u001b[0m\u001b[0;34m.\u001b[0m\u001b[0mannotate_gTSS\u001b[0m\u001b[0;34m(\u001b[0m\u001b[0mtss_anot\u001b[0m\u001b[0;34m)\u001b[0m\u001b[0;34m[\u001b[0m\u001b[0;34m[\u001b[0m\u001b[0;34m\"chrom\"\u001b[0m\u001b[0;34m,\u001b[0m\u001b[0;34m\"start\"\u001b[0m\u001b[0;34m,\u001b[0m\u001b[0;34m\"end\"\u001b[0m\u001b[0;34m,\u001b[0m\u001b[0;34m\"tss_type\"\u001b[0m\u001b[0;34m,\u001b[0m\u001b[0;34m\"cov\"\u001b[0m\u001b[0;34m,\u001b[0m \u001b[0;34m\"strand\"\u001b[0m\u001b[0;34m,\u001b[0m\u001b[0;34m\"gTSS_anot\"\u001b[0m \u001b[0;34m,\u001b[0m\u001b[0;34m\"tssGene\"\u001b[0m\u001b[0;34m,\u001b[0m \u001b[0;34m\"numSamples\"\u001b[0m\u001b[0;34m,\u001b[0m \u001b[0;34m\"geneFrom\"\u001b[0m\u001b[0;34m,\u001b[0m \u001b[0;34m\"max_cov\"\u001b[0m\u001b[0;34m]\u001b[0m\u001b[0;34m]\u001b[0m\u001b[0;34m\u001b[0m\u001b[0;34m\u001b[0m\u001b[0m\n\u001b[0m\u001b[1;32m      9\u001b[0m \u001b[0;34m\u001b[0m\u001b[0m\n\u001b[1;32m     10\u001b[0m \u001b[0;34m\u001b[0m\u001b[0m\n",
      "\u001b[0;32m~/github/MinION_Transcriptome/TU_annotation/annotate_tss.py\u001b[0m in \u001b[0;36mannotate_gTSS\u001b[0;34m(tss_anot)\u001b[0m\n\u001b[1;32m     99\u001b[0m \u001b[0;32mdef\u001b[0m \u001b[0mannotate_gTSS\u001b[0m\u001b[0;34m(\u001b[0m\u001b[0mtss_anot\u001b[0m\u001b[0;34m)\u001b[0m\u001b[0;34m:\u001b[0m\u001b[0;34m\u001b[0m\u001b[0;34m\u001b[0m\u001b[0m\n\u001b[1;32m    100\u001b[0m     \u001b[0mannotated_df\u001b[0m\u001b[0;34m=\u001b[0m\u001b[0mpd\u001b[0m\u001b[0;34m.\u001b[0m\u001b[0mDataFrame\u001b[0m\u001b[0;34m(\u001b[0m\u001b[0mcolumns\u001b[0m\u001b[0;34m=\u001b[0m\u001b[0;34m[\u001b[0m\u001b[0;34m\"start\"\u001b[0m\u001b[0;34m,\u001b[0m\u001b[0;34m\"end\"\u001b[0m\u001b[0;34m,\u001b[0m \u001b[0;34m\"geneFrom\"\u001b[0m\u001b[0;34m,\u001b[0m \u001b[0;34m\"cov\"\u001b[0m\u001b[0;34m,\u001b[0m \u001b[0;34m\"numSamples\"\u001b[0m\u001b[0;34m,\u001b[0m \u001b[0;34m\"tss_type\"\u001b[0m\u001b[0;34m,\u001b[0m \u001b[0;34m\"tssGene\"\u001b[0m\u001b[0;34m,\u001b[0m \u001b[0;34m\"chrom\"\u001b[0m\u001b[0;34m,\u001b[0m \u001b[0;34m\"strand\"\u001b[0m\u001b[0;34m]\u001b[0m\u001b[0;34m)\u001b[0m\u001b[0;34m\u001b[0m\u001b[0;34m\u001b[0m\u001b[0m\n\u001b[0;32m--> 101\u001b[0;31m     \u001b[0;32mfor\u001b[0m \u001b[0mchrom\u001b[0m \u001b[0;32min\u001b[0m \u001b[0mtss_anot\u001b[0m\u001b[0;34m.\u001b[0m\u001b[0mkeys\u001b[0m\u001b[0;34m(\u001b[0m\u001b[0;34m)\u001b[0m\u001b[0;34m:\u001b[0m\u001b[0;34m\u001b[0m\u001b[0;34m\u001b[0m\u001b[0m\n\u001b[0m\u001b[1;32m    102\u001b[0m         \u001b[0;32mfor\u001b[0m \u001b[0mstrand\u001b[0m \u001b[0;32min\u001b[0m \u001b[0mtss_anot\u001b[0m\u001b[0;34m[\u001b[0m\u001b[0mchrom\u001b[0m\u001b[0;34m]\u001b[0m\u001b[0;34m.\u001b[0m\u001b[0mkeys\u001b[0m\u001b[0;34m(\u001b[0m\u001b[0;34m)\u001b[0m\u001b[0;34m:\u001b[0m\u001b[0;34m\u001b[0m\u001b[0;34m\u001b[0m\u001b[0m\n\u001b[1;32m    103\u001b[0m             \u001b[0mcur_df\u001b[0m \u001b[0;34m=\u001b[0m \u001b[0mpd\u001b[0m\u001b[0;34m.\u001b[0m\u001b[0mDataFrame\u001b[0m\u001b[0;34m(\u001b[0m\u001b[0mtss_anot\u001b[0m\u001b[0;34m[\u001b[0m\u001b[0mchrom\u001b[0m\u001b[0;34m]\u001b[0m\u001b[0;34m[\u001b[0m\u001b[0mstrand\u001b[0m\u001b[0;34m]\u001b[0m\u001b[0;34m,\u001b[0m \u001b[0mcolumns\u001b[0m\u001b[0;34m=\u001b[0m\u001b[0;34m[\u001b[0m\u001b[0;34m\"start\"\u001b[0m\u001b[0;34m,\u001b[0m\u001b[0;34m\"end\"\u001b[0m\u001b[0;34m,\u001b[0m \u001b[0;34m\"geneFrom\"\u001b[0m\u001b[0;34m,\u001b[0m \u001b[0;34m\"cov\"\u001b[0m\u001b[0;34m,\u001b[0m \u001b[0;34m\"numSamples\"\u001b[0m\u001b[0;34m,\u001b[0m \u001b[0;34m\"tss_type\"\u001b[0m\u001b[0;34m,\u001b[0m \u001b[0;34m\"tssGene\"\u001b[0m\u001b[0;34m]\u001b[0m\u001b[0;34m)\u001b[0m\u001b[0;34m\u001b[0m\u001b[0;34m\u001b[0m\u001b[0m\n",
      "\u001b[0;32m~/.conda/envs/tu_annotation/lib/python3.9/site-packages/pandas/core/frame.py\u001b[0m in \u001b[0;36m__init__\u001b[0;34m(self, data, index, columns, dtype, copy)\u001b[0m\n\u001b[1;32m    692\u001b[0m                         \u001b[0;31m# ndarray], Index, Series], Sequence[Any]]\"\u001b[0m\u001b[0;34m\u001b[0m\u001b[0;34m\u001b[0m\u001b[0m\n\u001b[1;32m    693\u001b[0m                         \u001b[0mcolumns\u001b[0m \u001b[0;34m=\u001b[0m \u001b[0mensure_index\u001b[0m\u001b[0;34m(\u001b[0m\u001b[0mcolumns\u001b[0m\u001b[0;34m)\u001b[0m  \u001b[0;31m# type: ignore[arg-type]\u001b[0m\u001b[0;34m\u001b[0m\u001b[0;34m\u001b[0m\u001b[0m\n\u001b[0;32m--> 694\u001b[0;31m                     arrays, columns, index = nested_data_to_arrays(\n\u001b[0m\u001b[1;32m    695\u001b[0m                         \u001b[0;31m# error: Argument 3 to \"nested_data_to_arrays\" has incompatible\u001b[0m\u001b[0;34m\u001b[0m\u001b[0;34m\u001b[0m\u001b[0m\n\u001b[1;32m    696\u001b[0m                         \u001b[0;31m# type \"Optional[Collection[Any]]\"; expected \"Optional[Index]\"\u001b[0m\u001b[0;34m\u001b[0m\u001b[0;34m\u001b[0m\u001b[0m\n",
      "\u001b[0;32m~/.conda/envs/tu_annotation/lib/python3.9/site-packages/pandas/core/internals/construction.py\u001b[0m in \u001b[0;36mnested_data_to_arrays\u001b[0;34m(data, columns, index, dtype)\u001b[0m\n\u001b[1;32m    481\u001b[0m         \u001b[0mcolumns\u001b[0m \u001b[0;34m=\u001b[0m \u001b[0mensure_index\u001b[0m\u001b[0;34m(\u001b[0m\u001b[0mdata\u001b[0m\u001b[0;34m[\u001b[0m\u001b[0;36m0\u001b[0m\u001b[0;34m]\u001b[0m\u001b[0;34m.\u001b[0m\u001b[0m_fields\u001b[0m\u001b[0;34m)\u001b[0m\u001b[0;34m\u001b[0m\u001b[0;34m\u001b[0m\u001b[0m\n\u001b[1;32m    482\u001b[0m \u001b[0;34m\u001b[0m\u001b[0m\n\u001b[0;32m--> 483\u001b[0;31m     \u001b[0marrays\u001b[0m\u001b[0;34m,\u001b[0m \u001b[0mcolumns\u001b[0m \u001b[0;34m=\u001b[0m \u001b[0mto_arrays\u001b[0m\u001b[0;34m(\u001b[0m\u001b[0mdata\u001b[0m\u001b[0;34m,\u001b[0m \u001b[0mcolumns\u001b[0m\u001b[0;34m,\u001b[0m \u001b[0mdtype\u001b[0m\u001b[0;34m=\u001b[0m\u001b[0mdtype\u001b[0m\u001b[0;34m)\u001b[0m\u001b[0;34m\u001b[0m\u001b[0;34m\u001b[0m\u001b[0m\n\u001b[0m\u001b[1;32m    484\u001b[0m     \u001b[0mcolumns\u001b[0m \u001b[0;34m=\u001b[0m \u001b[0mensure_index\u001b[0m\u001b[0;34m(\u001b[0m\u001b[0mcolumns\u001b[0m\u001b[0;34m)\u001b[0m\u001b[0;34m\u001b[0m\u001b[0;34m\u001b[0m\u001b[0m\n\u001b[1;32m    485\u001b[0m \u001b[0;34m\u001b[0m\u001b[0m\n",
      "\u001b[0;32m~/.conda/envs/tu_annotation/lib/python3.9/site-packages/pandas/core/internals/construction.py\u001b[0m in \u001b[0;36mto_arrays\u001b[0;34m(data, columns, dtype)\u001b[0m\n\u001b[1;32m    805\u001b[0m         \u001b[0marr\u001b[0m \u001b[0;34m=\u001b[0m \u001b[0m_list_to_arrays\u001b[0m\u001b[0;34m(\u001b[0m\u001b[0mdata\u001b[0m\u001b[0;34m)\u001b[0m\u001b[0;34m\u001b[0m\u001b[0;34m\u001b[0m\u001b[0m\n\u001b[1;32m    806\u001b[0m \u001b[0;34m\u001b[0m\u001b[0m\n\u001b[0;32m--> 807\u001b[0;31m     \u001b[0mcontent\u001b[0m\u001b[0;34m,\u001b[0m \u001b[0mcolumns\u001b[0m \u001b[0;34m=\u001b[0m \u001b[0m_finalize_columns_and_data\u001b[0m\u001b[0;34m(\u001b[0m\u001b[0marr\u001b[0m\u001b[0;34m,\u001b[0m \u001b[0mcolumns\u001b[0m\u001b[0;34m,\u001b[0m \u001b[0mdtype\u001b[0m\u001b[0;34m)\u001b[0m\u001b[0;34m\u001b[0m\u001b[0;34m\u001b[0m\u001b[0m\n\u001b[0m\u001b[1;32m    808\u001b[0m     \u001b[0;32mreturn\u001b[0m \u001b[0mcontent\u001b[0m\u001b[0;34m,\u001b[0m \u001b[0mcolumns\u001b[0m\u001b[0;34m\u001b[0m\u001b[0;34m\u001b[0m\u001b[0m\n\u001b[1;32m    809\u001b[0m \u001b[0;34m\u001b[0m\u001b[0m\n",
      "\u001b[0;32m~/.conda/envs/tu_annotation/lib/python3.9/site-packages/pandas/core/internals/construction.py\u001b[0m in \u001b[0;36m_finalize_columns_and_data\u001b[0;34m(content, columns, dtype)\u001b[0m\n\u001b[1;32m    907\u001b[0m     \u001b[0;32mexcept\u001b[0m \u001b[0mAssertionError\u001b[0m \u001b[0;32mas\u001b[0m \u001b[0merr\u001b[0m\u001b[0;34m:\u001b[0m\u001b[0;34m\u001b[0m\u001b[0;34m\u001b[0m\u001b[0m\n\u001b[1;32m    908\u001b[0m         \u001b[0;31m# GH#26429 do not raise user-facing AssertionError\u001b[0m\u001b[0;34m\u001b[0m\u001b[0;34m\u001b[0m\u001b[0m\n\u001b[0;32m--> 909\u001b[0;31m         \u001b[0;32mraise\u001b[0m \u001b[0mValueError\u001b[0m\u001b[0;34m(\u001b[0m\u001b[0merr\u001b[0m\u001b[0;34m)\u001b[0m \u001b[0;32mfrom\u001b[0m \u001b[0merr\u001b[0m\u001b[0;34m\u001b[0m\u001b[0;34m\u001b[0m\u001b[0m\n\u001b[0m\u001b[1;32m    910\u001b[0m \u001b[0;34m\u001b[0m\u001b[0m\n\u001b[1;32m    911\u001b[0m     \u001b[0;32mif\u001b[0m \u001b[0mlen\u001b[0m\u001b[0;34m(\u001b[0m\u001b[0mcontents\u001b[0m\u001b[0;34m)\u001b[0m \u001b[0;32mand\u001b[0m \u001b[0mcontents\u001b[0m\u001b[0;34m[\u001b[0m\u001b[0;36m0\u001b[0m\u001b[0;34m]\u001b[0m\u001b[0;34m.\u001b[0m\u001b[0mdtype\u001b[0m \u001b[0;34m==\u001b[0m \u001b[0mnp\u001b[0m\u001b[0;34m.\u001b[0m\u001b[0mobject_\u001b[0m\u001b[0;34m:\u001b[0m\u001b[0;34m\u001b[0m\u001b[0;34m\u001b[0m\u001b[0m\n",
      "\u001b[0;31mValueError\u001b[0m: 7 columns passed, passed data had 6 columns"
     ]
    }
   ],
   "source": [
    "\n",
    "filter_tss=\"/scratch/rx32940/minION/polyA_directRNA/TU_Annotation/direct_output/tss/chromIlag.filtered20.TSS.tab\"\n",
    "gff=\"/scratch/rx32940/minION/polyA_cDNA/map/genome/reference/GCF_000007685.1_ASM768v1_genomic.gff\"\n",
    "output=\"/scratch/rx32940/minION/polyA_directRNA/TU_Annotation/direct_output/tss/chromIlead.annotate20.TSS.tab\"\n",
    "\n",
    "all_genes=at.get_genes(gff) \n",
    "all_tss=at.get_tss(all_genes, filter_tss)\n",
    "tss_anot=at.annotate_tss(all_genes, all_tss)\n",
    "anot_df = at.annotate_gTSS(tss_anot)[[\"chrom\",\"start\",\"end\",\"tss_type\",\"cov\", \"strand\",\"gTSS_anot\" ,\"tssGene\", \"numSamples\", \"geneFrom\", \"max_cov\"]]\n",
    "\n",
    "\n"
   ]
  },
  {
   "cell_type": "code",
   "execution_count": null,
   "metadata": {},
   "outputs": [],
   "source": [
    "bam=\"/scratch/rx32940/minION/polyA_directRNA/map/genome/bam/LIC_NOPOLYA_rna_filtered.linear.bam\"\n",
    "gff=\"/scratch/rx32940/minION/polyA_cDNA/map/genome/reference/GCF_000007685.1_ASM768v1_genomic.gff\"\n",
    "output=\"/scratch/rx32940/minION/polyA_directRNA/TU_Annotation/input/\"\n",
    "\n"
   ]
  },
  {
   "cell_type": "code",
   "execution_count": null,
   "metadata": {},
   "outputs": [],
   "source": [
    "tss_obj=find_feature.FindFeature(bam=bam, gff=gff, output=output, feature=\"TSS\")\n",
    "tss_dict = tss_obj.find_features()\n",
    "# tts_obj=find_feature.FindFeature(bam=bam, gff=gff, output=output, feature=\"TTS\")\n",
    "# tts_dict = tts_obj.find_features()\n",
    "\n"
   ]
  },
  {
   "cell_type": "code",
   "execution_count": null,
   "metadata": {},
   "outputs": [],
   "source": [
    "test = tss_obj.pos_cov\n",
    "chrom=\"NC_005824.1\"\n",
    "strand=\"-\"\n",
    "test[chrom][strand][350181]\n",
    "\n",
    "tss_obj.all_reads[chrom][strand][0]"
   ]
  },
  {
   "cell_type": "code",
   "execution_count": null,
   "metadata": {},
   "outputs": [],
   "source": []
  },
  {
   "cell_type": "code",
   "execution_count": null,
   "metadata": {},
   "outputs": [],
   "source": [
    "tu_obj = find_tu.FindTU(bam=bam, gff=gff)\n",
    "tu_obj.find_operon()"
   ]
  },
  {
   "cell_type": "code",
   "execution_count": null,
   "metadata": {},
   "outputs": [],
   "source": [
    "all_orfs={}\n",
    "for chrom in tts_dict.keys():\n",
    "    all_orfs[chrom]={}\n",
    "    for strand in tts_dict[chrom].keys():\n",
    "        all_orfs[chrom][strand]=[]\n",
    "        # print(strand)\n",
    "        if strand == \"+\":\n",
    "            for tss in tss_dict[chrom][strand][0:5]:\n",
    "                # print(tss)\n",
    "                tss_start=tss[0] \n",
    "                tss_end=tss[1]\n",
    "                tss_gene=tss[2]\n",
    "                i=0\n",
    "                orf_list=[]\n",
    "                tts_start= tts_dict[chrom][strand][i][0]\n",
    "                tts_end= tts_dict[chrom][strand][i][1]\n",
    "                tts_gene=tts_dict[chrom][strand][i][2]\n",
    "                enlonged =0\n",
    "                tss_found=0\n",
    "                print(\"current tss: \" + str((tss_start , tss_end)))\n",
    "                while i < (len(tts_dict[chrom][strand])-1) and tts_end <= tss_end: # loop while the tss cluster's start (5') is smaller than the start of tts cluster (3') \n",
    "                    print(\"current tts\" + str((tts_start, tts_end)))\n",
    "                    if tts_start >= tss_start and tts_end <= tss_end: # if the cluster of tss and tts overlap\n",
    "                        # the current tu is enlonged with the tts cluster\n",
    "                        # use the enlonged version of tu to check overlapping with the next tts cluster\n",
    "                        enlonged += 1 \n",
    "                        tss_found +=1\n",
    "                        tss_start = tss_start \n",
    "                        tss_end = tts_start if tts_start > tss_end else tss_end\n",
    "                        tss_gene = tss_gene + \":\" + tts_gene if tss_gene != tts_gene else tss_gene\n",
    "                        print(\"enlonged tu: \" + str((tss_start, tss_end)))\n",
    "                    elif enlonged > 0:\n",
    "                        orf_list.append((tss_start, tss_end, tss_gene))\n",
    "                        print(\"current orf:\" + str((tss_start, tss_end)))\n",
    "                        print(enlonged)\n",
    "                        enlonged = 0\n",
    "                    i +=1\n",
    "                    tts_start= tts_dict[chrom][strand][i][0]\n",
    "                    tts_end= tts_dict[chrom][strand][i][1]\n",
    "                    tts_gene=tts_dict[chrom][strand][i][2]\n",
    "                orf_list.append((tss_start, tss_end, tss_gene))\n",
    "                all_orfs[chrom][strand] = all_orfs[chrom][strand] + orf_list\n",
    "                "
   ]
  },
  {
   "cell_type": "code",
   "execution_count": null,
   "metadata": {},
   "outputs": [],
   "source": [
    "all_reads = tss_obj.all_reads\n",
    "\n",
    "all_genes = tss_obj.all_genes\n",
    "\n",
    "all_operons={}\n",
    "for chrom in all_reads.keys():\n",
    "    all_operons[chrom]={}\n",
    "    for strand in all_reads[chrom].keys():\n",
    "        all_operons[chrom][strand] = []\n",
    "        operon_list=[]\n",
    "        if strand == \"-\": # lag strand reads has second position as 5'\n",
    "            read_start=1\n",
    "            read_end=0\n",
    "        else:\n",
    "            read_start=0\n",
    "            read_end=1\n",
    "        for read in all_reads[chrom][strand]: # loop through each read\n",
    "            cur_operon_start = read[read_start]\n",
    "            cur_operon_end = read[read_end]\n",
    "            cur_operon_genes = \"\"\n",
    "            gene_in_operon = 0\n",
    "            i=0\n",
    "            while i < len(all_genes[chrom][strand]): # rotating through genes (read is stationary)\n",
    "                cur_gene = all_genes[chrom][strand][i]\n",
    "                if cur_gene[1] < cur_operon_start: # genes end is before read start\n",
    "                    i += 1\n",
    "                elif cur_gene[0]> cur_operon_end : # if gene start after read ends, then no more future gene will overlap with this read if gene list sorted\n",
    "                    cur_operon = (cur_operon_start, cur_operon_end, gene_in_operon, cur_operon_genes[1:])\n",
    "                    i = len(all_genes[chrom][strand]) # stop looping through genes\n",
    "                else: # gene over lap with current read\n",
    "                    gene_in_operon +=1 \n",
    "                    cur_operon_genes = cur_operon_genes + \":\"+ cur_gene[2] \n",
    "                    i += 1\n",
    "            all_operons[chrom][strand].append(cur_operon)\n",
    "        "
   ]
  },
  {
   "cell_type": "code",
   "execution_count": null,
   "metadata": {},
   "outputs": [],
   "source": [
    "# all_operons\n",
    "\n",
    "with open(os.path.join(output, \"Q29_Copenhageni_Basecalled_May_22_2020_Direct-RNA_rna_filtered.linear.operons.tab\"), \"w\") as ow:\n",
    "    ow.write(\"%s\\t%s\\t%s\\t%s\\t%s\\t%s\\t%s\\n\"%(\"chrom\" ,\"strand\",\"start\", \"end\",\"numGenes\",\"numOfReads\", \"genesIncluded\")) \n",
    "    operon_cov_dict={}\n",
    "    for chrom in all_operons.keys():\n",
    "        operon_cov_dict[chrom]={}\n",
    "        for strand in all_operons[chrom].keys():\n",
    "            operon_cov_dict[chrom][strand]=[]\n",
    "            # get unique operons (with different genes included) and get number of reads supporting each operon\n",
    "            genes_in_operons=[x[3] for x in all_operons[chrom][strand]]\n",
    "            operons_cov = Counter(genes_in_operons)\n",
    "            for op in operons_cov.keys():\n",
    "                op_start= min([x[0] for x in all_operons[chrom][strand] if x[3] == op])\n",
    "                op_end = max([x[1] for x in all_operons[chrom][strand] if x[3] == op])\n",
    "                op_spread=[x[2] for x in all_operons[chrom][strand] if x[3] == op][0]\n",
    "                op_cov = operons_cov[op]\n",
    "                operon_cov_dict[chrom][strand].append((op_start, op_end,op_spread ,op_cov, op))\n",
    "                ow.write(\"%s\\t%s\\t%d\\t%d\\t%d\\t%d\\t%s\\n\"%(chrom, strand, op_start, op_end,op_spread ,op_cov, op)) \n",
    "                \n",
    "            "
   ]
  },
  {
   "cell_type": "code",
   "execution_count": null,
   "metadata": {},
   "outputs": [],
   "source": [
    "operon_cov_dict\n",
    "\n",
    "# all_operons"
   ]
  },
  {
   "cell_type": "code",
   "execution_count": null,
   "metadata": {},
   "outputs": [],
   "source": [
    "\n",
    "\n",
    "genes_in_operons = [x[3] for x in operon_list]\n",
    "\n",
    "operons_cov = Counter(genes_in_operons)\n",
    "with open(os.path.join(output, \"Q29_Copenhageni_Basecalled_May_22_2020_Direct-RNA_rna_filtered.linear.operons.tav\"), \"w\") as ow:\n",
    "    ow.write(\"%s\\t%s\\t%s\\t%s\"%(\"chrom\" ,\"strand\"\"Operons\", \"numOfReads\"))\n",
    "    for chrom in operon_cov_dict.keys():\n",
    "        for strand in operon_cov_dict[chrom].keys():\n",
    "            \n",
    "    "
   ]
  },
  {
   "cell_type": "code",
   "execution_count": null,
   "metadata": {},
   "outputs": [],
   "source": [
    "operon_list\n",
    "cur_operon_genes\n",
    "len(all_reads[chrom][strand])\n",
    "test = list(set(all_reads[chrom][strand]))\n",
    "test.sort()\n",
    "test[3258:5200]\n",
    "chrom=\"NC_005823.1\"\n",
    "strand=\"-\"\n",
    "distinct_read = list(set(all_reads[chrom][strand]))\n",
    "distinct_read.sort()\n",
    "all_genes[chrom][\"-\"]\n"
   ]
  }
 ],
 "metadata": {
  "interpreter": {
   "hash": "57dd241cb148cc0f6cdd2944948ec59dd0e7c7de5bd15212d71dc7338efa6ab0"
  },
  "kernelspec": {
   "display_name": "Python 3.9.7 ('tu_annotation')",
   "language": "python",
   "name": "python3"
  },
  "language_info": {
   "codemirror_mode": {
    "name": "ipython",
    "version": 3
   },
   "file_extension": ".py",
   "mimetype": "text/x-python",
   "name": "python",
   "nbconvert_exporter": "python",
   "pygments_lexer": "ipython3",
   "version": "3.9.7"
  },
  "orig_nbformat": 4
 },
 "nbformat": 4,
 "nbformat_minor": 2
}
